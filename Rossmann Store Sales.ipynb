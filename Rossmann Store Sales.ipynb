{
 "cells": [
  {
   "cell_type": "markdown",
   "id": "273d0491",
   "metadata": {
    "heading_collapsed": true
   },
   "source": [
    "# Rossmann Store Sales\n",
    "## Problema de Previsão de Vendas"
   ]
  },
  {
   "cell_type": "markdown",
   "id": "cc25fbf7",
   "metadata": {
    "hidden": true
   },
   "source": [
    "### Motivação\n",
    "CFO requisitou essa solução durante uma reunião de resultados mensais;\n",
    "\n",
    "### Causa Raíz do Problema\n",
    "Investimento para reforma das lojas;\n",
    "\n",
    "### Stakeholders\n",
    "CFO;\n",
    "\n",
    "### Formato da Solução\n",
    "Vendas diárias em R$, nos próximos 6 meses;\n",
    "Problema de predição;\n",
    "Séries temporais, Regressão e Redes Neurais;\n",
    "Predições acessadas via celular;"
   ]
  },
  {
   "cell_type": "markdown",
   "id": "e84681a8",
   "metadata": {},
   "source": [
    "# 0.0 Imports"
   ]
  },
  {
   "cell_type": "code",
   "execution_count": 1,
   "id": "7f84a663",
   "metadata": {
    "ExecuteTime": {
     "end_time": "2022-07-08T00:23:18.348397Z",
     "start_time": "2022-07-08T00:23:15.457125Z"
    }
   },
   "outputs": [],
   "source": [
    "#Importando bibliotecas\n",
    "import pandas as pd\n",
    "import inflection\n",
    "import math\n",
    "import matplotlib.pyplot as plt\n",
    "import seaborn as sns\n",
    "from IPython.display import Image\n",
    "from datetime import datetime, timedelta\n",
    "import numpy as np"
   ]
  },
  {
   "cell_type": "markdown",
   "id": "a927cafe",
   "metadata": {},
   "source": [
    "## 0.1 Helper Functions"
   ]
  },
  {
   "cell_type": "markdown",
   "id": "454cb8aa",
   "metadata": {},
   "source": [
    "## 0.2 Loading Data"
   ]
  },
  {
   "cell_type": "code",
   "execution_count": 2,
   "id": "b37de27a",
   "metadata": {
    "ExecuteTime": {
     "end_time": "2022-07-08T00:23:19.191992Z",
     "start_time": "2022-07-08T00:23:18.350400Z"
    }
   },
   "outputs": [],
   "source": [
    "#Carregando dados\n",
    "df_sales_raw = pd.read_csv('train.csv', low_memory = False)\n",
    "df_store_raw = pd.read_csv('store.csv', low_memory = False)"
   ]
  },
  {
   "cell_type": "code",
   "execution_count": 3,
   "id": "bdf20812",
   "metadata": {
    "ExecuteTime": {
     "end_time": "2022-07-08T00:23:19.222912Z",
     "start_time": "2022-07-08T00:23:19.195765Z"
    }
   },
   "outputs": [
    {
     "data": {
      "text/html": [
       "<div>\n",
       "<style scoped>\n",
       "    .dataframe tbody tr th:only-of-type {\n",
       "        vertical-align: middle;\n",
       "    }\n",
       "\n",
       "    .dataframe tbody tr th {\n",
       "        vertical-align: top;\n",
       "    }\n",
       "\n",
       "    .dataframe thead th {\n",
       "        text-align: right;\n",
       "    }\n",
       "</style>\n",
       "<table border=\"1\" class=\"dataframe\">\n",
       "  <thead>\n",
       "    <tr style=\"text-align: right;\">\n",
       "      <th></th>\n",
       "      <th>Store</th>\n",
       "      <th>DayOfWeek</th>\n",
       "      <th>Date</th>\n",
       "      <th>Sales</th>\n",
       "      <th>Customers</th>\n",
       "      <th>Open</th>\n",
       "      <th>Promo</th>\n",
       "      <th>StateHoliday</th>\n",
       "      <th>SchoolHoliday</th>\n",
       "    </tr>\n",
       "  </thead>\n",
       "  <tbody>\n",
       "    <tr>\n",
       "      <th>0</th>\n",
       "      <td>1</td>\n",
       "      <td>5</td>\n",
       "      <td>2015-07-31</td>\n",
       "      <td>5263</td>\n",
       "      <td>555</td>\n",
       "      <td>1</td>\n",
       "      <td>1</td>\n",
       "      <td>0</td>\n",
       "      <td>1</td>\n",
       "    </tr>\n",
       "    <tr>\n",
       "      <th>1</th>\n",
       "      <td>2</td>\n",
       "      <td>5</td>\n",
       "      <td>2015-07-31</td>\n",
       "      <td>6064</td>\n",
       "      <td>625</td>\n",
       "      <td>1</td>\n",
       "      <td>1</td>\n",
       "      <td>0</td>\n",
       "      <td>1</td>\n",
       "    </tr>\n",
       "    <tr>\n",
       "      <th>2</th>\n",
       "      <td>3</td>\n",
       "      <td>5</td>\n",
       "      <td>2015-07-31</td>\n",
       "      <td>8314</td>\n",
       "      <td>821</td>\n",
       "      <td>1</td>\n",
       "      <td>1</td>\n",
       "      <td>0</td>\n",
       "      <td>1</td>\n",
       "    </tr>\n",
       "    <tr>\n",
       "      <th>3</th>\n",
       "      <td>4</td>\n",
       "      <td>5</td>\n",
       "      <td>2015-07-31</td>\n",
       "      <td>13995</td>\n",
       "      <td>1498</td>\n",
       "      <td>1</td>\n",
       "      <td>1</td>\n",
       "      <td>0</td>\n",
       "      <td>1</td>\n",
       "    </tr>\n",
       "    <tr>\n",
       "      <th>4</th>\n",
       "      <td>5</td>\n",
       "      <td>5</td>\n",
       "      <td>2015-07-31</td>\n",
       "      <td>4822</td>\n",
       "      <td>559</td>\n",
       "      <td>1</td>\n",
       "      <td>1</td>\n",
       "      <td>0</td>\n",
       "      <td>1</td>\n",
       "    </tr>\n",
       "  </tbody>\n",
       "</table>\n",
       "</div>"
      ],
      "text/plain": [
       "   Store  DayOfWeek        Date  Sales  Customers  Open  Promo StateHoliday  \\\n",
       "0      1          5  2015-07-31   5263        555     1      1            0   \n",
       "1      2          5  2015-07-31   6064        625     1      1            0   \n",
       "2      3          5  2015-07-31   8314        821     1      1            0   \n",
       "3      4          5  2015-07-31  13995       1498     1      1            0   \n",
       "4      5          5  2015-07-31   4822        559     1      1            0   \n",
       "\n",
       "   SchoolHoliday  \n",
       "0              1  \n",
       "1              1  \n",
       "2              1  \n",
       "3              1  \n",
       "4              1  "
      ]
     },
     "execution_count": 3,
     "metadata": {},
     "output_type": "execute_result"
    }
   ],
   "source": [
    "#Verificando os dados\n",
    "df_sales_raw.head()"
   ]
  },
  {
   "cell_type": "code",
   "execution_count": 4,
   "id": "675b48ab",
   "metadata": {
    "ExecuteTime": {
     "end_time": "2022-07-08T00:23:19.316628Z",
     "start_time": "2022-07-08T00:23:19.225891Z"
    }
   },
   "outputs": [
    {
     "data": {
      "text/html": [
       "<div>\n",
       "<style scoped>\n",
       "    .dataframe tbody tr th:only-of-type {\n",
       "        vertical-align: middle;\n",
       "    }\n",
       "\n",
       "    .dataframe tbody tr th {\n",
       "        vertical-align: top;\n",
       "    }\n",
       "\n",
       "    .dataframe thead th {\n",
       "        text-align: right;\n",
       "    }\n",
       "</style>\n",
       "<table border=\"1\" class=\"dataframe\">\n",
       "  <thead>\n",
       "    <tr style=\"text-align: right;\">\n",
       "      <th></th>\n",
       "      <th>Store</th>\n",
       "      <th>StoreType</th>\n",
       "      <th>Assortment</th>\n",
       "      <th>CompetitionDistance</th>\n",
       "      <th>CompetitionOpenSinceMonth</th>\n",
       "      <th>CompetitionOpenSinceYear</th>\n",
       "      <th>Promo2</th>\n",
       "      <th>Promo2SinceWeek</th>\n",
       "      <th>Promo2SinceYear</th>\n",
       "      <th>PromoInterval</th>\n",
       "    </tr>\n",
       "  </thead>\n",
       "  <tbody>\n",
       "    <tr>\n",
       "      <th>0</th>\n",
       "      <td>1</td>\n",
       "      <td>c</td>\n",
       "      <td>a</td>\n",
       "      <td>1270.0</td>\n",
       "      <td>9.0</td>\n",
       "      <td>2008.0</td>\n",
       "      <td>0</td>\n",
       "      <td>NaN</td>\n",
       "      <td>NaN</td>\n",
       "      <td>NaN</td>\n",
       "    </tr>\n",
       "    <tr>\n",
       "      <th>1</th>\n",
       "      <td>2</td>\n",
       "      <td>a</td>\n",
       "      <td>a</td>\n",
       "      <td>570.0</td>\n",
       "      <td>11.0</td>\n",
       "      <td>2007.0</td>\n",
       "      <td>1</td>\n",
       "      <td>13.0</td>\n",
       "      <td>2010.0</td>\n",
       "      <td>Jan,Apr,Jul,Oct</td>\n",
       "    </tr>\n",
       "    <tr>\n",
       "      <th>2</th>\n",
       "      <td>3</td>\n",
       "      <td>a</td>\n",
       "      <td>a</td>\n",
       "      <td>14130.0</td>\n",
       "      <td>12.0</td>\n",
       "      <td>2006.0</td>\n",
       "      <td>1</td>\n",
       "      <td>14.0</td>\n",
       "      <td>2011.0</td>\n",
       "      <td>Jan,Apr,Jul,Oct</td>\n",
       "    </tr>\n",
       "    <tr>\n",
       "      <th>3</th>\n",
       "      <td>4</td>\n",
       "      <td>c</td>\n",
       "      <td>c</td>\n",
       "      <td>620.0</td>\n",
       "      <td>9.0</td>\n",
       "      <td>2009.0</td>\n",
       "      <td>0</td>\n",
       "      <td>NaN</td>\n",
       "      <td>NaN</td>\n",
       "      <td>NaN</td>\n",
       "    </tr>\n",
       "    <tr>\n",
       "      <th>4</th>\n",
       "      <td>5</td>\n",
       "      <td>a</td>\n",
       "      <td>a</td>\n",
       "      <td>29910.0</td>\n",
       "      <td>4.0</td>\n",
       "      <td>2015.0</td>\n",
       "      <td>0</td>\n",
       "      <td>NaN</td>\n",
       "      <td>NaN</td>\n",
       "      <td>NaN</td>\n",
       "    </tr>\n",
       "  </tbody>\n",
       "</table>\n",
       "</div>"
      ],
      "text/plain": [
       "   Store StoreType Assortment  CompetitionDistance  CompetitionOpenSinceMonth  \\\n",
       "0      1         c          a               1270.0                        9.0   \n",
       "1      2         a          a                570.0                       11.0   \n",
       "2      3         a          a              14130.0                       12.0   \n",
       "3      4         c          c                620.0                        9.0   \n",
       "4      5         a          a              29910.0                        4.0   \n",
       "\n",
       "   CompetitionOpenSinceYear  Promo2  Promo2SinceWeek  Promo2SinceYear  \\\n",
       "0                    2008.0       0              NaN              NaN   \n",
       "1                    2007.0       1             13.0           2010.0   \n",
       "2                    2006.0       1             14.0           2011.0   \n",
       "3                    2009.0       0              NaN              NaN   \n",
       "4                    2015.0       0              NaN              NaN   \n",
       "\n",
       "     PromoInterval  \n",
       "0              NaN  \n",
       "1  Jan,Apr,Jul,Oct  \n",
       "2  Jan,Apr,Jul,Oct  \n",
       "3              NaN  \n",
       "4              NaN  "
      ]
     },
     "execution_count": 4,
     "metadata": {},
     "output_type": "execute_result"
    }
   ],
   "source": [
    "#Verificando os dados\n",
    "df_store_raw.head()"
   ]
  },
  {
   "cell_type": "code",
   "execution_count": 5,
   "id": "89c90a08",
   "metadata": {
    "ExecuteTime": {
     "end_time": "2022-07-08T00:23:19.714631Z",
     "start_time": "2022-07-08T00:23:19.319628Z"
    }
   },
   "outputs": [
    {
     "data": {
      "text/html": [
       "<div>\n",
       "<style scoped>\n",
       "    .dataframe tbody tr th:only-of-type {\n",
       "        vertical-align: middle;\n",
       "    }\n",
       "\n",
       "    .dataframe tbody tr th {\n",
       "        vertical-align: top;\n",
       "    }\n",
       "\n",
       "    .dataframe thead th {\n",
       "        text-align: right;\n",
       "    }\n",
       "</style>\n",
       "<table border=\"1\" class=\"dataframe\">\n",
       "  <thead>\n",
       "    <tr style=\"text-align: right;\">\n",
       "      <th></th>\n",
       "      <th>Store</th>\n",
       "      <th>DayOfWeek</th>\n",
       "      <th>Date</th>\n",
       "      <th>Sales</th>\n",
       "      <th>Customers</th>\n",
       "      <th>Open</th>\n",
       "      <th>Promo</th>\n",
       "      <th>StateHoliday</th>\n",
       "      <th>SchoolHoliday</th>\n",
       "      <th>StoreType</th>\n",
       "      <th>Assortment</th>\n",
       "      <th>CompetitionDistance</th>\n",
       "      <th>CompetitionOpenSinceMonth</th>\n",
       "      <th>CompetitionOpenSinceYear</th>\n",
       "      <th>Promo2</th>\n",
       "      <th>Promo2SinceWeek</th>\n",
       "      <th>Promo2SinceYear</th>\n",
       "      <th>PromoInterval</th>\n",
       "    </tr>\n",
       "  </thead>\n",
       "  <tbody>\n",
       "    <tr>\n",
       "      <th>0</th>\n",
       "      <td>1</td>\n",
       "      <td>5</td>\n",
       "      <td>2015-07-31</td>\n",
       "      <td>5263</td>\n",
       "      <td>555</td>\n",
       "      <td>1</td>\n",
       "      <td>1</td>\n",
       "      <td>0</td>\n",
       "      <td>1</td>\n",
       "      <td>c</td>\n",
       "      <td>a</td>\n",
       "      <td>1270.0</td>\n",
       "      <td>9.0</td>\n",
       "      <td>2008.0</td>\n",
       "      <td>0</td>\n",
       "      <td>NaN</td>\n",
       "      <td>NaN</td>\n",
       "      <td>NaN</td>\n",
       "    </tr>\n",
       "    <tr>\n",
       "      <th>1</th>\n",
       "      <td>2</td>\n",
       "      <td>5</td>\n",
       "      <td>2015-07-31</td>\n",
       "      <td>6064</td>\n",
       "      <td>625</td>\n",
       "      <td>1</td>\n",
       "      <td>1</td>\n",
       "      <td>0</td>\n",
       "      <td>1</td>\n",
       "      <td>a</td>\n",
       "      <td>a</td>\n",
       "      <td>570.0</td>\n",
       "      <td>11.0</td>\n",
       "      <td>2007.0</td>\n",
       "      <td>1</td>\n",
       "      <td>13.0</td>\n",
       "      <td>2010.0</td>\n",
       "      <td>Jan,Apr,Jul,Oct</td>\n",
       "    </tr>\n",
       "    <tr>\n",
       "      <th>2</th>\n",
       "      <td>3</td>\n",
       "      <td>5</td>\n",
       "      <td>2015-07-31</td>\n",
       "      <td>8314</td>\n",
       "      <td>821</td>\n",
       "      <td>1</td>\n",
       "      <td>1</td>\n",
       "      <td>0</td>\n",
       "      <td>1</td>\n",
       "      <td>a</td>\n",
       "      <td>a</td>\n",
       "      <td>14130.0</td>\n",
       "      <td>12.0</td>\n",
       "      <td>2006.0</td>\n",
       "      <td>1</td>\n",
       "      <td>14.0</td>\n",
       "      <td>2011.0</td>\n",
       "      <td>Jan,Apr,Jul,Oct</td>\n",
       "    </tr>\n",
       "    <tr>\n",
       "      <th>3</th>\n",
       "      <td>4</td>\n",
       "      <td>5</td>\n",
       "      <td>2015-07-31</td>\n",
       "      <td>13995</td>\n",
       "      <td>1498</td>\n",
       "      <td>1</td>\n",
       "      <td>1</td>\n",
       "      <td>0</td>\n",
       "      <td>1</td>\n",
       "      <td>c</td>\n",
       "      <td>c</td>\n",
       "      <td>620.0</td>\n",
       "      <td>9.0</td>\n",
       "      <td>2009.0</td>\n",
       "      <td>0</td>\n",
       "      <td>NaN</td>\n",
       "      <td>NaN</td>\n",
       "      <td>NaN</td>\n",
       "    </tr>\n",
       "    <tr>\n",
       "      <th>4</th>\n",
       "      <td>5</td>\n",
       "      <td>5</td>\n",
       "      <td>2015-07-31</td>\n",
       "      <td>4822</td>\n",
       "      <td>559</td>\n",
       "      <td>1</td>\n",
       "      <td>1</td>\n",
       "      <td>0</td>\n",
       "      <td>1</td>\n",
       "      <td>a</td>\n",
       "      <td>a</td>\n",
       "      <td>29910.0</td>\n",
       "      <td>4.0</td>\n",
       "      <td>2015.0</td>\n",
       "      <td>0</td>\n",
       "      <td>NaN</td>\n",
       "      <td>NaN</td>\n",
       "      <td>NaN</td>\n",
       "    </tr>\n",
       "  </tbody>\n",
       "</table>\n",
       "</div>"
      ],
      "text/plain": [
       "   Store  DayOfWeek        Date  Sales  Customers  Open  Promo StateHoliday  \\\n",
       "0      1          5  2015-07-31   5263        555     1      1            0   \n",
       "1      2          5  2015-07-31   6064        625     1      1            0   \n",
       "2      3          5  2015-07-31   8314        821     1      1            0   \n",
       "3      4          5  2015-07-31  13995       1498     1      1            0   \n",
       "4      5          5  2015-07-31   4822        559     1      1            0   \n",
       "\n",
       "   SchoolHoliday StoreType Assortment  CompetitionDistance  \\\n",
       "0              1         c          a               1270.0   \n",
       "1              1         a          a                570.0   \n",
       "2              1         a          a              14130.0   \n",
       "3              1         c          c                620.0   \n",
       "4              1         a          a              29910.0   \n",
       "\n",
       "   CompetitionOpenSinceMonth  CompetitionOpenSinceYear  Promo2  \\\n",
       "0                        9.0                    2008.0       0   \n",
       "1                       11.0                    2007.0       1   \n",
       "2                       12.0                    2006.0       1   \n",
       "3                        9.0                    2009.0       0   \n",
       "4                        4.0                    2015.0       0   \n",
       "\n",
       "   Promo2SinceWeek  Promo2SinceYear    PromoInterval  \n",
       "0              NaN              NaN              NaN  \n",
       "1             13.0           2010.0  Jan,Apr,Jul,Oct  \n",
       "2             14.0           2011.0  Jan,Apr,Jul,Oct  \n",
       "3              NaN              NaN              NaN  \n",
       "4              NaN              NaN              NaN  "
      ]
     },
     "execution_count": 5,
     "metadata": {},
     "output_type": "execute_result"
    }
   ],
   "source": [
    "#merge\n",
    "df_raw = pd.merge(df_sales_raw, df_store_raw, how='left', on='Store')\n",
    "df_raw.head()"
   ]
  },
  {
   "cell_type": "markdown",
   "id": "d3982e8d",
   "metadata": {},
   "source": [
    "# 1.0 Descrição dos dados"
   ]
  },
  {
   "cell_type": "code",
   "execution_count": 6,
   "id": "baeb2a9c",
   "metadata": {
    "ExecuteTime": {
     "end_time": "2022-07-08T00:23:19.906590Z",
     "start_time": "2022-07-08T00:23:19.717630Z"
    }
   },
   "outputs": [],
   "source": [
    "#criando cópia do dataframe inicial\n",
    "df1 = df_raw.copy()"
   ]
  },
  {
   "cell_type": "markdown",
   "id": "8cb7675a",
   "metadata": {},
   "source": [
    "## 1.1 Rename Columns "
   ]
  },
  {
   "cell_type": "code",
   "execution_count": 7,
   "id": "a60ff808",
   "metadata": {
    "ExecuteTime": {
     "end_time": "2022-07-08T00:23:19.922533Z",
     "start_time": "2022-07-08T00:23:19.908539Z"
    }
   },
   "outputs": [
    {
     "data": {
      "text/plain": [
       "Index(['Store', 'DayOfWeek', 'Date', 'Sales', 'Customers', 'Open', 'Promo',\n",
       "       'StateHoliday', 'SchoolHoliday', 'StoreType', 'Assortment',\n",
       "       'CompetitionDistance', 'CompetitionOpenSinceMonth',\n",
       "       'CompetitionOpenSinceYear', 'Promo2', 'Promo2SinceWeek',\n",
       "       'Promo2SinceYear', 'PromoInterval'],\n",
       "      dtype='object')"
      ]
     },
     "execution_count": 7,
     "metadata": {},
     "output_type": "execute_result"
    }
   ],
   "source": [
    "#renomear colunas para facilitar o trabalho futuro\n",
    "df1.columns"
   ]
  },
  {
   "cell_type": "code",
   "execution_count": 8,
   "id": "5b9255bc",
   "metadata": {
    "ExecuteTime": {
     "end_time": "2022-07-08T00:23:20.032563Z",
     "start_time": "2022-07-08T00:23:19.926529Z"
    }
   },
   "outputs": [],
   "source": [
    "old_cols = ['Store', 'DayOfWeek', 'Date', 'Sales', 'Customers', 'Open', 'Promo',\n",
    "       'StateHoliday', 'SchoolHoliday', 'StoreType', 'Assortment',\n",
    "       'CompetitionDistance', 'CompetitionOpenSinceMonth',\n",
    "       'CompetitionOpenSinceYear', 'Promo2', 'Promo2SinceWeek',\n",
    "       'Promo2SinceYear', 'PromoInterval']\n",
    "\n",
    "snakecase = lambda x: inflection.underscore (x)\n",
    "\n",
    "new_cols = list(map(snakecase, old_cols))\n",
    "\n",
    "df1.columns = new_cols"
   ]
  },
  {
   "cell_type": "code",
   "execution_count": 9,
   "id": "6dc4f877",
   "metadata": {
    "ExecuteTime": {
     "end_time": "2022-07-08T00:23:20.141742Z",
     "start_time": "2022-07-08T00:23:20.038585Z"
    }
   },
   "outputs": [
    {
     "data": {
      "text/plain": [
       "Index(['store', 'day_of_week', 'date', 'sales', 'customers', 'open', 'promo',\n",
       "       'state_holiday', 'school_holiday', 'store_type', 'assortment',\n",
       "       'competition_distance', 'competition_open_since_month',\n",
       "       'competition_open_since_year', 'promo2', 'promo2_since_week',\n",
       "       'promo2_since_year', 'promo_interval'],\n",
       "      dtype='object')"
      ]
     },
     "execution_count": 9,
     "metadata": {},
     "output_type": "execute_result"
    }
   ],
   "source": [
    "df1.columns"
   ]
  },
  {
   "cell_type": "markdown",
   "id": "4054ef37",
   "metadata": {},
   "source": [
    "## 1.2 Data Dimensions"
   ]
  },
  {
   "cell_type": "code",
   "execution_count": 10,
   "id": "7b832a71",
   "metadata": {
    "ExecuteTime": {
     "end_time": "2022-07-08T00:23:20.269117Z",
     "start_time": "2022-07-08T00:23:20.146661Z"
    }
   },
   "outputs": [
    {
     "name": "stdout",
     "output_type": "stream",
     "text": [
      "Number of rows: 1017209\n",
      "Number of columns: 18\n"
     ]
    }
   ],
   "source": [
    "#verificando o tamanho do dataframe\n",
    "print( 'Number of rows: {}' .format (df1.shape[0]) )\n",
    "print( 'Number of columns: {}' .format (df1.shape[1]) )"
   ]
  },
  {
   "cell_type": "markdown",
   "id": "dc411893",
   "metadata": {},
   "source": [
    "## 1.3 Data Types"
   ]
  },
  {
   "cell_type": "code",
   "execution_count": 11,
   "id": "68a04b9d",
   "metadata": {
    "ExecuteTime": {
     "end_time": "2022-07-08T00:23:20.392594Z",
     "start_time": "2022-07-08T00:23:20.274120Z"
    }
   },
   "outputs": [
    {
     "data": {
      "text/plain": [
       "store                             int64\n",
       "day_of_week                       int64\n",
       "date                             object\n",
       "sales                             int64\n",
       "customers                         int64\n",
       "open                              int64\n",
       "promo                             int64\n",
       "state_holiday                    object\n",
       "school_holiday                    int64\n",
       "store_type                       object\n",
       "assortment                       object\n",
       "competition_distance            float64\n",
       "competition_open_since_month    float64\n",
       "competition_open_since_year     float64\n",
       "promo2                            int64\n",
       "promo2_since_week               float64\n",
       "promo2_since_year               float64\n",
       "promo_interval                   object\n",
       "dtype: object"
      ]
     },
     "execution_count": 11,
     "metadata": {},
     "output_type": "execute_result"
    }
   ],
   "source": [
    "#verificando os tipos dos dados\n",
    "df1.dtypes"
   ]
  },
  {
   "cell_type": "code",
   "execution_count": 12,
   "id": "e4565ed2",
   "metadata": {
    "ExecuteTime": {
     "end_time": "2022-07-08T00:23:20.694727Z",
     "start_time": "2022-07-08T00:23:20.399605Z"
    }
   },
   "outputs": [
    {
     "data": {
      "text/plain": [
       "store                                    int64\n",
       "day_of_week                              int64\n",
       "date                            datetime64[ns]\n",
       "sales                                    int64\n",
       "customers                                int64\n",
       "open                                     int64\n",
       "promo                                    int64\n",
       "state_holiday                           object\n",
       "school_holiday                           int64\n",
       "store_type                              object\n",
       "assortment                              object\n",
       "competition_distance                   float64\n",
       "competition_open_since_month           float64\n",
       "competition_open_since_year            float64\n",
       "promo2                                   int64\n",
       "promo2_since_week                      float64\n",
       "promo2_since_year                      float64\n",
       "promo_interval                          object\n",
       "dtype: object"
      ]
     },
     "execution_count": 12,
     "metadata": {},
     "output_type": "execute_result"
    }
   ],
   "source": [
    "#trocando o tipo dos dados\n",
    "df1['date'] = pd.to_datetime(df1['date'])\n",
    "df1.dtypes"
   ]
  },
  {
   "cell_type": "markdown",
   "id": "4e5ba568",
   "metadata": {
    "ExecuteTime": {
     "end_time": "2022-07-06T20:10:36.509822Z",
     "start_time": "2022-07-06T20:10:36.492641Z"
    }
   },
   "source": [
    "## 1.4 Check NA"
   ]
  },
  {
   "cell_type": "code",
   "execution_count": 13,
   "id": "d9bfb230",
   "metadata": {
    "ExecuteTime": {
     "end_time": "2022-07-08T00:23:21.348434Z",
     "start_time": "2022-07-08T00:23:20.697848Z"
    }
   },
   "outputs": [
    {
     "data": {
      "text/plain": [
       "store                                0\n",
       "day_of_week                          0\n",
       "date                                 0\n",
       "sales                                0\n",
       "customers                            0\n",
       "open                                 0\n",
       "promo                                0\n",
       "state_holiday                        0\n",
       "school_holiday                       0\n",
       "store_type                           0\n",
       "assortment                           0\n",
       "competition_distance              2642\n",
       "competition_open_since_month    323348\n",
       "competition_open_since_year     323348\n",
       "promo2                               0\n",
       "promo2_since_week               508031\n",
       "promo2_since_year               508031\n",
       "promo_interval                  508031\n",
       "dtype: int64"
      ]
     },
     "execution_count": 13,
     "metadata": {},
     "output_type": "execute_result"
    }
   ],
   "source": [
    "#verificando a existência de NA's nas colunas \n",
    "df1.isna().sum()"
   ]
  },
  {
   "cell_type": "markdown",
   "id": "543f154e",
   "metadata": {
    "ExecuteTime": {
     "end_time": "2022-07-06T20:27:53.523633Z",
     "start_time": "2022-07-06T20:27:53.501626Z"
    }
   },
   "source": [
    "## 1.5 Fillout NA"
   ]
  },
  {
   "cell_type": "code",
   "execution_count": 14,
   "id": "6519f6cd",
   "metadata": {
    "ExecuteTime": {
     "end_time": "2022-07-08T00:23:21.696410Z",
     "start_time": "2022-07-08T00:23:21.351439Z"
    }
   },
   "outputs": [],
   "source": [
    "# competition_distance com valores nulos = não há concorrência próxima\n",
    "## então substituiremos valores nulos com uma distância exageradamente grande\n",
    "df1['competition_distance'] = df1['competition_distance'].apply(lambda x: 200000.0 if math.isnan(x) \n",
    "                                                              else x)"
   ]
  },
  {
   "cell_type": "code",
   "execution_count": 15,
   "id": "887eee43",
   "metadata": {
    "ExecuteTime": {
     "end_time": "2022-07-08T00:23:39.337589Z",
     "start_time": "2022-07-08T00:23:21.698371Z"
    }
   },
   "outputs": [],
   "source": [
    "# competition_open_since_month com valores nulos = não sabemos o mês que o concorrente inaugurou ou não temos concorrente\n",
    "## seguindo o CRISP-DS, inicialmente, para primeira iteração, vamos considerar que é o mesmo mês da venda.\n",
    "df1['competition_open_since_month'] = df1.apply(lambda x: x['date'].month if math.isnan(x['competition_open_since_month']) \n",
    "                                                else x['competition_open_since_month'], axis=1)"
   ]
  },
  {
   "cell_type": "code",
   "execution_count": 16,
   "id": "6a1c715a",
   "metadata": {
    "ExecuteTime": {
     "end_time": "2022-07-08T00:23:57.508887Z",
     "start_time": "2022-07-08T00:23:39.339592Z"
    }
   },
   "outputs": [],
   "source": [
    "# competition_open_since_year com valores nulos = não sabemos o ano que o concorrente inaugurou ou não temos concorrente\n",
    "## seguindo o CRISP-DS, inicialmente, para primeira iteração, vamos considerar que é o mesmo ano da venda.\n",
    "df1['competition_open_since_year'] = df1.apply(lambda x: x['date'].year if math.isnan(x['competition_open_since_year']) \n",
    "                                                else x['competition_open_since_year'], axis=1)"
   ]
  },
  {
   "cell_type": "code",
   "execution_count": 17,
   "id": "033efad0",
   "metadata": {
    "ExecuteTime": {
     "end_time": "2022-07-08T00:24:15.719462Z",
     "start_time": "2022-07-08T00:23:57.511888Z"
    }
   },
   "outputs": [],
   "source": [
    "#promo2_since_week com valores nulos = a loja não iniciou na promo2\n",
    "## seguindo o CRISP-DS, inicialmente, para primeira iteração, vamos considerar que é o mesmo mês da venda.\n",
    "df1['promo2_since_week'] = df1.apply(lambda x: x['date'].week if math.isnan(x['promo2_since_week']) \n",
    "                                     else x['promo2_since_week'], axis=1)\n"
   ]
  },
  {
   "cell_type": "code",
   "execution_count": 18,
   "id": "0018e6b2",
   "metadata": {
    "ExecuteTime": {
     "end_time": "2022-07-08T00:24:33.972999Z",
     "start_time": "2022-07-08T00:24:15.721445Z"
    }
   },
   "outputs": [],
   "source": [
    "#promo2_since_year com valores nulos = a loja não iniciou na promo2\n",
    "## seguindo o CRISP-DS, inicialmente, para primeira iteração, vamos considerar que é o mesmo ano da venda.\n",
    "df1['promo2_since_year'] = df1.apply(lambda x: x['date'].year if math.isnan(x['promo2_since_year']) \n",
    "                                     else x['promo2_since_year'], axis=1)"
   ]
  },
  {
   "cell_type": "code",
   "execution_count": 19,
   "id": "7e3453f1",
   "metadata": {
    "ExecuteTime": {
     "end_time": "2022-07-08T00:24:53.188109Z",
     "start_time": "2022-07-08T00:24:33.975979Z"
    }
   },
   "outputs": [],
   "source": [
    "#promo_interval com valores nulos = a loja não iniciou na promo2\n",
    "## seguindo o CRISP-DS, inicialmente, para primeira iteração, vamos criar uma nova coluna para explicitar se é promoção ou não\n",
    "month_map = {1:'Jan', 2:'Fev', 3:'Mar', 4:'Apr', 5:'Mai', 6:'Jun', 7:'Jul', 8:'Aug', 9:'Sep', 10:'Oct', 11:'Nov', 12:'Dec'}\n",
    "df1['promo_interval'].fillna(0, inplace=True)\n",
    "df1['month_map'] = df1['date'].dt.month.map(month_map)\n",
    "df1['is_promo'] = df1.apply(lambda x: 0 if (x['promo_interval'] == 0) else\n",
    "                               1 if (x['month_map'] in x['promo_interval'].split(',')) \n",
    "                               else 0, axis=1)"
   ]
  },
  {
   "cell_type": "code",
   "execution_count": 20,
   "id": "df9d09c7",
   "metadata": {
    "ExecuteTime": {
     "end_time": "2022-07-08T00:24:53.997922Z",
     "start_time": "2022-07-08T00:24:53.190090Z"
    }
   },
   "outputs": [
    {
     "data": {
      "text/plain": [
       "store                           0\n",
       "day_of_week                     0\n",
       "date                            0\n",
       "sales                           0\n",
       "customers                       0\n",
       "open                            0\n",
       "promo                           0\n",
       "state_holiday                   0\n",
       "school_holiday                  0\n",
       "store_type                      0\n",
       "assortment                      0\n",
       "competition_distance            0\n",
       "competition_open_since_month    0\n",
       "competition_open_since_year     0\n",
       "promo2                          0\n",
       "promo2_since_week               0\n",
       "promo2_since_year               0\n",
       "promo_interval                  0\n",
       "month_map                       0\n",
       "is_promo                        0\n",
       "dtype: int64"
      ]
     },
     "execution_count": 20,
     "metadata": {},
     "output_type": "execute_result"
    }
   ],
   "source": [
    "#verificando a existência de NA's nas colunas\n",
    "df1.isna().sum()"
   ]
  },
  {
   "cell_type": "markdown",
   "id": "8c1b25b7",
   "metadata": {
    "ExecuteTime": {
     "end_time": "2022-07-06T22:54:03.829447Z",
     "start_time": "2022-07-06T22:54:03.813442Z"
    }
   },
   "source": [
    "## 1.6 Data Types"
   ]
  },
  {
   "cell_type": "code",
   "execution_count": 21,
   "id": "cdccd5ea",
   "metadata": {
    "ExecuteTime": {
     "end_time": "2022-07-08T00:24:54.013046Z",
     "start_time": "2022-07-08T00:24:53.999942Z"
    }
   },
   "outputs": [
    {
     "data": {
      "text/plain": [
       "store                                    int64\n",
       "day_of_week                              int64\n",
       "date                            datetime64[ns]\n",
       "sales                                    int64\n",
       "customers                                int64\n",
       "open                                     int64\n",
       "promo                                    int64\n",
       "state_holiday                           object\n",
       "school_holiday                           int64\n",
       "store_type                              object\n",
       "assortment                              object\n",
       "competition_distance                   float64\n",
       "competition_open_since_month           float64\n",
       "competition_open_since_year            float64\n",
       "promo2                                   int64\n",
       "promo2_since_week                      float64\n",
       "promo2_since_year                      float64\n",
       "promo_interval                          object\n",
       "month_map                               object\n",
       "is_promo                                 int64\n",
       "dtype: object"
      ]
     },
     "execution_count": 21,
     "metadata": {},
     "output_type": "execute_result"
    }
   ],
   "source": [
    "df1.dtypes"
   ]
  },
  {
   "cell_type": "code",
   "execution_count": 22,
   "id": "7f216a75",
   "metadata": {
    "ExecuteTime": {
     "end_time": "2022-07-08T00:24:54.185418Z",
     "start_time": "2022-07-08T00:24:54.017008Z"
    }
   },
   "outputs": [],
   "source": [
    "df1['competition_open_since_month'] = df1['competition_open_since_month'].astype(int)\n",
    "df1['competition_open_since_year'] = df1['competition_open_since_year'].astype(int)\n",
    "df1['promo2_since_week'] = df1['promo2_since_week'].astype(int)\n",
    "df1['promo2_since_year'] = df1['promo2_since_year'].astype(int)"
   ]
  },
  {
   "cell_type": "code",
   "execution_count": 23,
   "id": "75df9c8d",
   "metadata": {
    "ExecuteTime": {
     "end_time": "2022-07-08T00:24:54.216706Z",
     "start_time": "2022-07-08T00:24:54.187525Z"
    }
   },
   "outputs": [
    {
     "data": {
      "text/plain": [
       "store                                    int64\n",
       "day_of_week                              int64\n",
       "date                            datetime64[ns]\n",
       "sales                                    int64\n",
       "customers                                int64\n",
       "open                                     int64\n",
       "promo                                    int64\n",
       "state_holiday                           object\n",
       "school_holiday                           int64\n",
       "store_type                              object\n",
       "assortment                              object\n",
       "competition_distance                   float64\n",
       "competition_open_since_month             int32\n",
       "competition_open_since_year              int32\n",
       "promo2                                   int64\n",
       "promo2_since_week                        int32\n",
       "promo2_since_year                        int32\n",
       "promo_interval                          object\n",
       "month_map                               object\n",
       "is_promo                                 int64\n",
       "dtype: object"
      ]
     },
     "execution_count": 23,
     "metadata": {},
     "output_type": "execute_result"
    }
   ],
   "source": [
    "df1.dtypes"
   ]
  },
  {
   "cell_type": "markdown",
   "id": "ff4ae16a",
   "metadata": {
    "ExecuteTime": {
     "end_time": "2022-07-06T23:18:07.067985Z",
     "start_time": "2022-07-06T23:18:07.043959Z"
    }
   },
   "source": [
    "## 1.7 Descriptive Statistical"
   ]
  },
  {
   "cell_type": "markdown",
   "id": "935ac4d1",
   "metadata": {},
   "source": [
    "### 1.7.1 Numerical Attributes "
   ]
  },
  {
   "cell_type": "code",
   "execution_count": 24,
   "id": "48920686",
   "metadata": {
    "ExecuteTime": {
     "end_time": "2022-07-08T00:24:55.155105Z",
     "start_time": "2022-07-08T00:24:54.219635Z"
    }
   },
   "outputs": [
    {
     "data": {
      "text/html": [
       "<div>\n",
       "<style scoped>\n",
       "    .dataframe tbody tr th:only-of-type {\n",
       "        vertical-align: middle;\n",
       "    }\n",
       "\n",
       "    .dataframe tbody tr th {\n",
       "        vertical-align: top;\n",
       "    }\n",
       "\n",
       "    .dataframe thead th {\n",
       "        text-align: right;\n",
       "    }\n",
       "</style>\n",
       "<table border=\"1\" class=\"dataframe\">\n",
       "  <thead>\n",
       "    <tr style=\"text-align: right;\">\n",
       "      <th></th>\n",
       "      <th>attributes</th>\n",
       "      <th>mean</th>\n",
       "      <th>median</th>\n",
       "      <th>std</th>\n",
       "      <th>min</th>\n",
       "      <th>max</th>\n",
       "      <th>skew</th>\n",
       "      <th>kurtosis</th>\n",
       "    </tr>\n",
       "  </thead>\n",
       "  <tbody>\n",
       "    <tr>\n",
       "      <th>0</th>\n",
       "      <td>store</td>\n",
       "      <td>558.429727</td>\n",
       "      <td>558.0</td>\n",
       "      <td>321.908651</td>\n",
       "      <td>1.0</td>\n",
       "      <td>1115.0</td>\n",
       "      <td>-0.000955</td>\n",
       "      <td>-1.200524</td>\n",
       "    </tr>\n",
       "    <tr>\n",
       "      <th>1</th>\n",
       "      <td>day_of_week</td>\n",
       "      <td>3.998341</td>\n",
       "      <td>4.0</td>\n",
       "      <td>1.997391</td>\n",
       "      <td>1.0</td>\n",
       "      <td>7.0</td>\n",
       "      <td>0.001593</td>\n",
       "      <td>-1.246873</td>\n",
       "    </tr>\n",
       "    <tr>\n",
       "      <th>2</th>\n",
       "      <td>sales</td>\n",
       "      <td>5773.818972</td>\n",
       "      <td>5744.0</td>\n",
       "      <td>3849.926175</td>\n",
       "      <td>0.0</td>\n",
       "      <td>41551.0</td>\n",
       "      <td>0.641460</td>\n",
       "      <td>1.778375</td>\n",
       "    </tr>\n",
       "    <tr>\n",
       "      <th>3</th>\n",
       "      <td>customers</td>\n",
       "      <td>633.145946</td>\n",
       "      <td>609.0</td>\n",
       "      <td>464.411734</td>\n",
       "      <td>0.0</td>\n",
       "      <td>7388.0</td>\n",
       "      <td>1.598650</td>\n",
       "      <td>7.091773</td>\n",
       "    </tr>\n",
       "    <tr>\n",
       "      <th>4</th>\n",
       "      <td>open</td>\n",
       "      <td>0.830107</td>\n",
       "      <td>1.0</td>\n",
       "      <td>0.375539</td>\n",
       "      <td>0.0</td>\n",
       "      <td>1.0</td>\n",
       "      <td>-1.758045</td>\n",
       "      <td>1.090723</td>\n",
       "    </tr>\n",
       "    <tr>\n",
       "      <th>5</th>\n",
       "      <td>promo</td>\n",
       "      <td>0.381515</td>\n",
       "      <td>0.0</td>\n",
       "      <td>0.485759</td>\n",
       "      <td>0.0</td>\n",
       "      <td>1.0</td>\n",
       "      <td>0.487838</td>\n",
       "      <td>-1.762018</td>\n",
       "    </tr>\n",
       "    <tr>\n",
       "      <th>6</th>\n",
       "      <td>school_holiday</td>\n",
       "      <td>0.178647</td>\n",
       "      <td>0.0</td>\n",
       "      <td>0.383056</td>\n",
       "      <td>0.0</td>\n",
       "      <td>1.0</td>\n",
       "      <td>1.677842</td>\n",
       "      <td>0.815154</td>\n",
       "    </tr>\n",
       "    <tr>\n",
       "      <th>7</th>\n",
       "      <td>competition_distance</td>\n",
       "      <td>5935.442677</td>\n",
       "      <td>2330.0</td>\n",
       "      <td>12547.652996</td>\n",
       "      <td>20.0</td>\n",
       "      <td>200000.0</td>\n",
       "      <td>10.242344</td>\n",
       "      <td>147.789712</td>\n",
       "    </tr>\n",
       "    <tr>\n",
       "      <th>8</th>\n",
       "      <td>competition_open_since_month</td>\n",
       "      <td>6.786849</td>\n",
       "      <td>7.0</td>\n",
       "      <td>3.311087</td>\n",
       "      <td>1.0</td>\n",
       "      <td>12.0</td>\n",
       "      <td>-0.042076</td>\n",
       "      <td>-1.232607</td>\n",
       "    </tr>\n",
       "    <tr>\n",
       "      <th>9</th>\n",
       "      <td>competition_open_since_year</td>\n",
       "      <td>2010.324840</td>\n",
       "      <td>2012.0</td>\n",
       "      <td>5.515593</td>\n",
       "      <td>1900.0</td>\n",
       "      <td>2015.0</td>\n",
       "      <td>-7.235657</td>\n",
       "      <td>124.071304</td>\n",
       "    </tr>\n",
       "    <tr>\n",
       "      <th>10</th>\n",
       "      <td>promo2</td>\n",
       "      <td>0.500564</td>\n",
       "      <td>1.0</td>\n",
       "      <td>0.500000</td>\n",
       "      <td>0.0</td>\n",
       "      <td>1.0</td>\n",
       "      <td>-0.002255</td>\n",
       "      <td>-1.999999</td>\n",
       "    </tr>\n",
       "    <tr>\n",
       "      <th>11</th>\n",
       "      <td>promo2_since_week</td>\n",
       "      <td>23.619033</td>\n",
       "      <td>22.0</td>\n",
       "      <td>14.310064</td>\n",
       "      <td>1.0</td>\n",
       "      <td>52.0</td>\n",
       "      <td>0.178723</td>\n",
       "      <td>-1.184046</td>\n",
       "    </tr>\n",
       "    <tr>\n",
       "      <th>12</th>\n",
       "      <td>promo2_since_year</td>\n",
       "      <td>2012.793297</td>\n",
       "      <td>2013.0</td>\n",
       "      <td>1.662658</td>\n",
       "      <td>2009.0</td>\n",
       "      <td>2015.0</td>\n",
       "      <td>-0.784436</td>\n",
       "      <td>-0.210075</td>\n",
       "    </tr>\n",
       "    <tr>\n",
       "      <th>13</th>\n",
       "      <td>is_promo</td>\n",
       "      <td>0.143345</td>\n",
       "      <td>0.0</td>\n",
       "      <td>0.350425</td>\n",
       "      <td>0.0</td>\n",
       "      <td>1.0</td>\n",
       "      <td>2.035562</td>\n",
       "      <td>2.143516</td>\n",
       "    </tr>\n",
       "  </tbody>\n",
       "</table>\n",
       "</div>"
      ],
      "text/plain": [
       "                      attributes         mean  median           std     min  \\\n",
       "0                          store   558.429727   558.0    321.908651     1.0   \n",
       "1                    day_of_week     3.998341     4.0      1.997391     1.0   \n",
       "2                          sales  5773.818972  5744.0   3849.926175     0.0   \n",
       "3                      customers   633.145946   609.0    464.411734     0.0   \n",
       "4                           open     0.830107     1.0      0.375539     0.0   \n",
       "5                          promo     0.381515     0.0      0.485759     0.0   \n",
       "6                 school_holiday     0.178647     0.0      0.383056     0.0   \n",
       "7           competition_distance  5935.442677  2330.0  12547.652996    20.0   \n",
       "8   competition_open_since_month     6.786849     7.0      3.311087     1.0   \n",
       "9    competition_open_since_year  2010.324840  2012.0      5.515593  1900.0   \n",
       "10                        promo2     0.500564     1.0      0.500000     0.0   \n",
       "11             promo2_since_week    23.619033    22.0     14.310064     1.0   \n",
       "12             promo2_since_year  2012.793297  2013.0      1.662658  2009.0   \n",
       "13                      is_promo     0.143345     0.0      0.350425     0.0   \n",
       "\n",
       "         max       skew    kurtosis  \n",
       "0     1115.0  -0.000955   -1.200524  \n",
       "1        7.0   0.001593   -1.246873  \n",
       "2    41551.0   0.641460    1.778375  \n",
       "3     7388.0   1.598650    7.091773  \n",
       "4        1.0  -1.758045    1.090723  \n",
       "5        1.0   0.487838   -1.762018  \n",
       "6        1.0   1.677842    0.815154  \n",
       "7   200000.0  10.242344  147.789712  \n",
       "8       12.0  -0.042076   -1.232607  \n",
       "9     2015.0  -7.235657  124.071304  \n",
       "10       1.0  -0.002255   -1.999999  \n",
       "11      52.0   0.178723   -1.184046  \n",
       "12    2015.0  -0.784436   -0.210075  \n",
       "13       1.0   2.035562    2.143516  "
      ]
     },
     "execution_count": 24,
     "metadata": {},
     "output_type": "execute_result"
    }
   ],
   "source": [
    "num_attributes = df1.select_dtypes( include=['int64', 'float64', 'int32'] )\n",
    "cat_attributes = df1.select_dtypes( exclude=['int64', 'float64', 'int32' , 'datetime64[ns]'] )\n",
    "\n",
    "num_attributes.agg([\"mean\",\"median\",\"std\",\"min\",\"max\",\"skew\",\"kurtosis\"]).T.reset_index().rename(columns={'index': 'attributes'})"
   ]
  },
  {
   "cell_type": "markdown",
   "id": "aa9a85d8",
   "metadata": {
    "ExecuteTime": {
     "end_time": "2022-07-06T23:37:59.692479Z",
     "start_time": "2022-07-06T23:37:59.682657Z"
    }
   },
   "source": [
    "### 1.7.2 Categorical Attributes "
   ]
  },
  {
   "cell_type": "code",
   "execution_count": 25,
   "id": "eb8cc26a",
   "metadata": {
    "ExecuteTime": {
     "end_time": "2022-07-08T00:24:55.393275Z",
     "start_time": "2022-07-08T00:24:55.158106Z"
    }
   },
   "outputs": [
    {
     "data": {
      "text/plain": [
       "state_holiday      4\n",
       "store_type         4\n",
       "assortment         3\n",
       "promo_interval     4\n",
       "month_map         12\n",
       "dtype: int64"
      ]
     },
     "execution_count": 25,
     "metadata": {},
     "output_type": "execute_result"
    }
   ],
   "source": [
    "cat_attributes.apply(lambda x: x.unique().shape[0])"
   ]
  },
  {
   "cell_type": "code",
   "execution_count": 26,
   "id": "a41ad972",
   "metadata": {
    "ExecuteTime": {
     "end_time": "2022-07-08T00:24:56.013611Z",
     "start_time": "2022-07-08T00:24:55.395252Z"
    }
   },
   "outputs": [
    {
     "data": {
      "text/plain": [
       "<AxesSubplot:xlabel='assortment', ylabel='sales'>"
      ]
     },
     "execution_count": 26,
     "metadata": {},
     "output_type": "execute_result"
    },
    {
     "data": {
      "image/png": "[encoded data removed]",
      "text/plain": [
       "<Figure size 432x288 with 3 Axes>"
      ]
     },
     "metadata": {},
     "output_type": "display_data"
    }
   ],
   "source": [
    "aux = df1[(df1['sales']>0) & (df1['state_holiday']!='0')]\n",
    "\n",
    "sns.set_style(\"darkgrid\")\n",
    "\n",
    "fig, ax = plt.subplots(1,3)\n",
    "\n",
    "sns.boxplot(x='state_holiday', y='sales', data=aux, ax=ax[0])\n",
    "\n",
    "sns.boxplot(x='store_type', y='sales', data=aux, ax=ax[1])\n",
    "\n",
    "sns.boxplot(x='assortment', y='sales', data=aux, ax=ax[2])\n",
    "\n"
   ]
  },
  {
   "cell_type": "markdown",
   "id": "68c829f4",
   "metadata": {},
   "source": [
    "# 2.0 Feature Engineering"
   ]
  },
  {
   "cell_type": "code",
   "execution_count": 27,
   "id": "64076802",
   "metadata": {
    "ExecuteTime": {
     "end_time": "2022-07-08T00:24:56.091766Z",
     "start_time": "2022-07-08T00:24:56.022587Z"
    }
   },
   "outputs": [],
   "source": [
    "df2 = df1.copy()"
   ]
  },
  {
   "cell_type": "code",
   "execution_count": 39,
   "id": "724f0dc6",
   "metadata": {
    "ExecuteTime": {
     "end_time": "2022-07-08T13:42:25.756302Z",
     "start_time": "2022-07-08T13:42:25.748302Z"
    }
   },
   "outputs": [
    {
     "data": {
      "text/plain": [
       "Index(['store', 'day_of_week', 'date', 'sales', 'customers', 'open', 'promo',\n",
       "       'state_holiday', 'school_holiday', 'store_type', 'assortment',\n",
       "       'competition_distance', 'competition_open_since_month',\n",
       "       'competition_open_since_year', 'promo2', 'promo2_since_week',\n",
       "       'promo2_since_year', 'promo_interval', 'month_map', 'is_promo', 'year',\n",
       "       'month', 'day', 'week', 'year_week', 'competition_since',\n",
       "       'competition_time_month', 'promo_since', 'promo_time_week'],\n",
       "      dtype='object')"
      ]
     },
     "execution_count": 39,
     "metadata": {},
     "output_type": "execute_result"
    }
   ],
   "source": [
    "df2.columns"
   ]
  },
  {
   "cell_type": "markdown",
   "id": "5246b58b",
   "metadata": {},
   "source": [
    "## 2.1 Mapa mental"
   ]
  },
  {
   "cell_type": "code",
   "execution_count": 28,
   "id": "62fb0916",
   "metadata": {
    "ExecuteTime": {
     "end_time": "2022-07-08T00:24:56.200693Z",
     "start_time": "2022-07-08T00:24:56.093841Z"
    }
   },
   "outputs": [
    {
     "data": {
      "image/png": "[encoded data removed]",
      "text/plain": [
       "<IPython.core.display.Image object>"
      ]
     },
     "execution_count": 28,
     "metadata": {},
     "output_type": "execute_result"
    }
   ],
   "source": [
    "# Mapa mental para representar as vendas diárias no ramo varejista\n",
    "Image('Vendas_dirias_varejo.png')"
   ]
  },
  {
   "cell_type": "markdown",
   "id": "17a9f076",
   "metadata": {
    "heading_collapsed": true
   },
   "source": [
    "## 2.2 Hipóteses"
   ]
  },
  {
   "cell_type": "markdown",
   "id": "75787d9d",
   "metadata": {
    "ExecuteTime": {
     "end_time": "2022-07-07T17:38:19.937223Z",
     "start_time": "2022-07-07T17:38:19.926226Z"
    },
    "hidden": true
   },
   "source": [
    "Como não temos informações de Clientes e de Localização, vamos focar em hipóteses geradas por Lojas, Produtos e Tempo.\n",
    "\n",
    "**1**. Lojas com maior sortimento devem vender mais;\n",
    "\n",
    "**2**. Lojas com concorrente perto devem vender menos;\n",
    "\n",
    "**3**. lojas com Concorrentes mais antigos devem vender menos;\n",
    "\n",
    "**4**. Lojas com promoções ativas por mais tempo devem vender mais;\n",
    "\n",
    "**5**. Lojas com mais dias de promoção deveriam vender mais;\n",
    "\n",
    "**6**. Lojas com mais promoções consecutivas deveriam vender mais;\n",
    "\n",
    "**7**. Lojas abertas no Natal deveriam vender mais;\n",
    "\n",
    "**8**. Lojas deveriam vender mais ao longo dos anos;\n",
    "\n",
    "**9**. Lojas deveriam vender mais no segundo semestre do ano;\n",
    "\n",
    "**10**. Lojas deveriam vender mais depois do dia 10 de cada mês;\n",
    "\n",
    "**11**. Lojas deveriam vender menos aos finais de semana;\n",
    "\n",
    "**12**. Lojas deveriam vender menos durante os feriados;"
   ]
  },
  {
   "cell_type": "markdown",
   "id": "543a624c",
   "metadata": {},
   "source": [
    "## 2.3 Feature Engineering"
   ]
  },
  {
   "cell_type": "code",
   "execution_count": 29,
   "id": "8ffdf2ca",
   "metadata": {
    "ExecuteTime": {
     "end_time": "2022-07-08T00:26:04.931541Z",
     "start_time": "2022-07-08T00:24:56.204692Z"
    }
   },
   "outputs": [
    {
     "name": "stderr",
     "output_type": "stream",
     "text": [
      "C:\\Users\\berg_\\AppData\\Local\\Temp\\ipykernel_5332\\1044119883.py:13: FutureWarning: Series.dt.weekofyear and Series.dt.week have been deprecated. Please use Series.dt.isocalendar().week instead.\n",
      "  df2['week'] = df2['date'].dt.week\n"
     ]
    }
   ],
   "source": [
    "#Derivar algumas variáveis\n",
    "\n",
    "#year\n",
    "df2['year'] = df2['date'].dt.year\n",
    "\n",
    "#month\n",
    "df2['month'] = df2['date'].dt.month\n",
    "\n",
    "#day\n",
    "df2['day'] = df2['date'].dt.day\n",
    "\n",
    "#week of year\n",
    "df2['week'] = df2['date'].dt.week\n",
    "\n",
    "#year week\n",
    "df2['year_week'] = df2['date'].dt.strftime('%Y-%W')\n",
    "\n",
    "#competition_since\n",
    "df2['competition_since'] =df2.apply(lambda x: datetime(year=x['competition_open_since_year'], month = x['competition_open_since_month'], day=1), axis=1)\n",
    "df2['competition_time_month'] = ((df2['date'] - df2['competition_since'])/30).apply( lambda x: x.days).astype(int)\n",
    "\n",
    "#promo_since\n",
    "df2['promo_since'] = df2['promo2_since_year'].astype(str) + '-' + df2['promo2_since_week'].astype(str)\n",
    "df2['promo_since'] = df2['promo_since'].apply( lambda x: datetime.strptime(x+'-1', '%Y-%W-%w') - timedelta(days=7))\n",
    "df2['promo_time_week'] = (( df2['date']- df2['promo_since'])/7).apply( lambda x: x.days).astype(int)\n",
    "\n",
    "#assortment\n",
    "df2['assortment'] = df2['assortment'].apply(lambda x: 'basic' if x=='a' else 'extra' if x== 'b' else 'extended')\n",
    "\n",
    "#state_holiday\n",
    "df2['state_holiday'] = df2['state_holiday'].apply(lambda x: 'public_holiday' if x=='a' else 'easter_holiday' if x== 'b' else 'christmas' if x=='c' else 'regular_day')"
   ]
  },
  {
   "cell_type": "code",
   "execution_count": 30,
   "id": "b66b1dcd",
   "metadata": {
    "ExecuteTime": {
     "end_time": "2022-07-08T00:26:05.214376Z",
     "start_time": "2022-07-08T00:26:04.933536Z"
    }
   },
   "outputs": [
    {
     "data": {
      "text/html": [
       "<div>\n",
       "<style scoped>\n",
       "    .dataframe tbody tr th:only-of-type {\n",
       "        vertical-align: middle;\n",
       "    }\n",
       "\n",
       "    .dataframe tbody tr th {\n",
       "        vertical-align: top;\n",
       "    }\n",
       "\n",
       "    .dataframe thead th {\n",
       "        text-align: right;\n",
       "    }\n",
       "</style>\n",
       "<table border=\"1\" class=\"dataframe\">\n",
       "  <thead>\n",
       "    <tr style=\"text-align: right;\">\n",
       "      <th></th>\n",
       "      <th>507973</th>\n",
       "      <th>634332</th>\n",
       "      <th>139237</th>\n",
       "      <th>745947</th>\n",
       "      <th>606999</th>\n",
       "    </tr>\n",
       "  </thead>\n",
       "  <tbody>\n",
       "    <tr>\n",
       "      <th>store</th>\n",
       "      <td>319</td>\n",
       "      <td>683</td>\n",
       "      <td>978</td>\n",
       "      <td>798</td>\n",
       "      <td>110</td>\n",
       "    </tr>\n",
       "    <tr>\n",
       "      <th>day_of_week</th>\n",
       "      <td>3</td>\n",
       "      <td>2</td>\n",
       "      <td>7</td>\n",
       "      <td>7</td>\n",
       "      <td>5</td>\n",
       "    </tr>\n",
       "    <tr>\n",
       "      <th>date</th>\n",
       "      <td>2014-04-02 00:00:00</td>\n",
       "      <td>2013-12-10 00:00:00</td>\n",
       "      <td>2015-03-29 00:00:00</td>\n",
       "      <td>2013-09-01 00:00:00</td>\n",
       "      <td>2014-01-03 00:00:00</td>\n",
       "    </tr>\n",
       "    <tr>\n",
       "      <th>sales</th>\n",
       "      <td>7603</td>\n",
       "      <td>9698</td>\n",
       "      <td>0</td>\n",
       "      <td>0</td>\n",
       "      <td>4270</td>\n",
       "    </tr>\n",
       "    <tr>\n",
       "      <th>customers</th>\n",
       "      <td>842</td>\n",
       "      <td>953</td>\n",
       "      <td>0</td>\n",
       "      <td>0</td>\n",
       "      <td>585</td>\n",
       "    </tr>\n",
       "    <tr>\n",
       "      <th>open</th>\n",
       "      <td>1</td>\n",
       "      <td>1</td>\n",
       "      <td>0</td>\n",
       "      <td>0</td>\n",
       "      <td>1</td>\n",
       "    </tr>\n",
       "    <tr>\n",
       "      <th>promo</th>\n",
       "      <td>1</td>\n",
       "      <td>0</td>\n",
       "      <td>0</td>\n",
       "      <td>0</td>\n",
       "      <td>0</td>\n",
       "    </tr>\n",
       "    <tr>\n",
       "      <th>state_holiday</th>\n",
       "      <td>regular_day</td>\n",
       "      <td>regular_day</td>\n",
       "      <td>regular_day</td>\n",
       "      <td>regular_day</td>\n",
       "      <td>regular_day</td>\n",
       "    </tr>\n",
       "    <tr>\n",
       "      <th>school_holiday</th>\n",
       "      <td>0</td>\n",
       "      <td>0</td>\n",
       "      <td>0</td>\n",
       "      <td>0</td>\n",
       "      <td>1</td>\n",
       "    </tr>\n",
       "    <tr>\n",
       "      <th>store_type</th>\n",
       "      <td>a</td>\n",
       "      <td>a</td>\n",
       "      <td>c</td>\n",
       "      <td>a</td>\n",
       "      <td>a</td>\n",
       "    </tr>\n",
       "    <tr>\n",
       "      <th>assortment</th>\n",
       "      <td>extended</td>\n",
       "      <td>basic</td>\n",
       "      <td>extended</td>\n",
       "      <td>basic</td>\n",
       "      <td>extended</td>\n",
       "    </tr>\n",
       "    <tr>\n",
       "      <th>competition_distance</th>\n",
       "      <td>570.0</td>\n",
       "      <td>2850.0</td>\n",
       "      <td>3890.0</td>\n",
       "      <td>9560.0</td>\n",
       "      <td>46590.0</td>\n",
       "    </tr>\n",
       "    <tr>\n",
       "      <th>competition_open_since_month</th>\n",
       "      <td>9</td>\n",
       "      <td>7</td>\n",
       "      <td>3</td>\n",
       "      <td>4</td>\n",
       "      <td>4</td>\n",
       "    </tr>\n",
       "    <tr>\n",
       "      <th>competition_open_since_year</th>\n",
       "      <td>2012</td>\n",
       "      <td>2014</td>\n",
       "      <td>2015</td>\n",
       "      <td>2001</td>\n",
       "      <td>2013</td>\n",
       "    </tr>\n",
       "    <tr>\n",
       "      <th>promo2</th>\n",
       "      <td>1</td>\n",
       "      <td>0</td>\n",
       "      <td>0</td>\n",
       "      <td>0</td>\n",
       "      <td>0</td>\n",
       "    </tr>\n",
       "    <tr>\n",
       "      <th>promo2_since_week</th>\n",
       "      <td>27</td>\n",
       "      <td>50</td>\n",
       "      <td>13</td>\n",
       "      <td>35</td>\n",
       "      <td>1</td>\n",
       "    </tr>\n",
       "    <tr>\n",
       "      <th>promo2_since_year</th>\n",
       "      <td>2012</td>\n",
       "      <td>2013</td>\n",
       "      <td>2015</td>\n",
       "      <td>2013</td>\n",
       "      <td>2014</td>\n",
       "    </tr>\n",
       "    <tr>\n",
       "      <th>promo_interval</th>\n",
       "      <td>Mar,Jun,Sept,Dec</td>\n",
       "      <td>0</td>\n",
       "      <td>0</td>\n",
       "      <td>0</td>\n",
       "      <td>0</td>\n",
       "    </tr>\n",
       "    <tr>\n",
       "      <th>month_map</th>\n",
       "      <td>Apr</td>\n",
       "      <td>Dec</td>\n",
       "      <td>Mar</td>\n",
       "      <td>Sep</td>\n",
       "      <td>Jan</td>\n",
       "    </tr>\n",
       "    <tr>\n",
       "      <th>is_promo</th>\n",
       "      <td>0</td>\n",
       "      <td>0</td>\n",
       "      <td>0</td>\n",
       "      <td>0</td>\n",
       "      <td>0</td>\n",
       "    </tr>\n",
       "    <tr>\n",
       "      <th>year</th>\n",
       "      <td>2014</td>\n",
       "      <td>2013</td>\n",
       "      <td>2015</td>\n",
       "      <td>2013</td>\n",
       "      <td>2014</td>\n",
       "    </tr>\n",
       "    <tr>\n",
       "      <th>month</th>\n",
       "      <td>4</td>\n",
       "      <td>12</td>\n",
       "      <td>3</td>\n",
       "      <td>9</td>\n",
       "      <td>1</td>\n",
       "    </tr>\n",
       "    <tr>\n",
       "      <th>day</th>\n",
       "      <td>2</td>\n",
       "      <td>10</td>\n",
       "      <td>29</td>\n",
       "      <td>1</td>\n",
       "      <td>3</td>\n",
       "    </tr>\n",
       "    <tr>\n",
       "      <th>week</th>\n",
       "      <td>14</td>\n",
       "      <td>50</td>\n",
       "      <td>13</td>\n",
       "      <td>35</td>\n",
       "      <td>1</td>\n",
       "    </tr>\n",
       "    <tr>\n",
       "      <th>year_week</th>\n",
       "      <td>2014-13</td>\n",
       "      <td>2013-49</td>\n",
       "      <td>2015-12</td>\n",
       "      <td>2013-34</td>\n",
       "      <td>2014-00</td>\n",
       "    </tr>\n",
       "    <tr>\n",
       "      <th>competition_since</th>\n",
       "      <td>2012-09-01 00:00:00</td>\n",
       "      <td>2014-07-01 00:00:00</td>\n",
       "      <td>2015-03-01 00:00:00</td>\n",
       "      <td>2001-04-01 00:00:00</td>\n",
       "      <td>2013-04-01 00:00:00</td>\n",
       "    </tr>\n",
       "    <tr>\n",
       "      <th>competition_time_month</th>\n",
       "      <td>19</td>\n",
       "      <td>-7</td>\n",
       "      <td>0</td>\n",
       "      <td>151</td>\n",
       "      <td>9</td>\n",
       "    </tr>\n",
       "    <tr>\n",
       "      <th>promo_since</th>\n",
       "      <td>2012-06-25 00:00:00</td>\n",
       "      <td>2013-12-09 00:00:00</td>\n",
       "      <td>2015-03-23 00:00:00</td>\n",
       "      <td>2013-08-26 00:00:00</td>\n",
       "      <td>2013-12-30 00:00:00</td>\n",
       "    </tr>\n",
       "    <tr>\n",
       "      <th>promo_time_week</th>\n",
       "      <td>92</td>\n",
       "      <td>0</td>\n",
       "      <td>0</td>\n",
       "      <td>0</td>\n",
       "      <td>0</td>\n",
       "    </tr>\n",
       "  </tbody>\n",
       "</table>\n",
       "</div>"
      ],
      "text/plain": [
       "                                           507973               634332  \\\n",
       "store                                         319                  683   \n",
       "day_of_week                                     3                    2   \n",
       "date                          2014-04-02 00:00:00  2013-12-10 00:00:00   \n",
       "sales                                        7603                 9698   \n",
       "customers                                     842                  953   \n",
       "open                                            1                    1   \n",
       "promo                                           1                    0   \n",
       "state_holiday                         regular_day          regular_day   \n",
       "school_holiday                                  0                    0   \n",
       "store_type                                      a                    a   \n",
       "assortment                               extended                basic   \n",
       "competition_distance                        570.0               2850.0   \n",
       "competition_open_since_month                    9                    7   \n",
       "competition_open_since_year                  2012                 2014   \n",
       "promo2                                          1                    0   \n",
       "promo2_since_week                              27                   50   \n",
       "promo2_since_year                            2012                 2013   \n",
       "promo_interval                   Mar,Jun,Sept,Dec                    0   \n",
       "month_map                                     Apr                  Dec   \n",
       "is_promo                                        0                    0   \n",
       "year                                         2014                 2013   \n",
       "month                                           4                   12   \n",
       "day                                             2                   10   \n",
       "week                                           14                   50   \n",
       "year_week                                 2014-13              2013-49   \n",
       "competition_since             2012-09-01 00:00:00  2014-07-01 00:00:00   \n",
       "competition_time_month                         19                   -7   \n",
       "promo_since                   2012-06-25 00:00:00  2013-12-09 00:00:00   \n",
       "promo_time_week                                92                    0   \n",
       "\n",
       "                                           139237               745947  \\\n",
       "store                                         978                  798   \n",
       "day_of_week                                     7                    7   \n",
       "date                          2015-03-29 00:00:00  2013-09-01 00:00:00   \n",
       "sales                                           0                    0   \n",
       "customers                                       0                    0   \n",
       "open                                            0                    0   \n",
       "promo                                           0                    0   \n",
       "state_holiday                         regular_day          regular_day   \n",
       "school_holiday                                  0                    0   \n",
       "store_type                                      c                    a   \n",
       "assortment                               extended                basic   \n",
       "competition_distance                       3890.0               9560.0   \n",
       "competition_open_since_month                    3                    4   \n",
       "competition_open_since_year                  2015                 2001   \n",
       "promo2                                          0                    0   \n",
       "promo2_since_week                              13                   35   \n",
       "promo2_since_year                            2015                 2013   \n",
       "promo_interval                                  0                    0   \n",
       "month_map                                     Mar                  Sep   \n",
       "is_promo                                        0                    0   \n",
       "year                                         2015                 2013   \n",
       "month                                           3                    9   \n",
       "day                                            29                    1   \n",
       "week                                           13                   35   \n",
       "year_week                                 2015-12              2013-34   \n",
       "competition_since             2015-03-01 00:00:00  2001-04-01 00:00:00   \n",
       "competition_time_month                          0                  151   \n",
       "promo_since                   2015-03-23 00:00:00  2013-08-26 00:00:00   \n",
       "promo_time_week                                 0                    0   \n",
       "\n",
       "                                           606999  \n",
       "store                                         110  \n",
       "day_of_week                                     5  \n",
       "date                          2014-01-03 00:00:00  \n",
       "sales                                        4270  \n",
       "customers                                     585  \n",
       "open                                            1  \n",
       "promo                                           0  \n",
       "state_holiday                         regular_day  \n",
       "school_holiday                                  1  \n",
       "store_type                                      a  \n",
       "assortment                               extended  \n",
       "competition_distance                      46590.0  \n",
       "competition_open_since_month                    4  \n",
       "competition_open_since_year                  2013  \n",
       "promo2                                          0  \n",
       "promo2_since_week                               1  \n",
       "promo2_since_year                            2014  \n",
       "promo_interval                                  0  \n",
       "month_map                                     Jan  \n",
       "is_promo                                        0  \n",
       "year                                         2014  \n",
       "month                                           1  \n",
       "day                                             3  \n",
       "week                                            1  \n",
       "year_week                                 2014-00  \n",
       "competition_since             2013-04-01 00:00:00  \n",
       "competition_time_month                          9  \n",
       "promo_since                   2013-12-30 00:00:00  \n",
       "promo_time_week                                 0  "
      ]
     },
     "execution_count": 30,
     "metadata": {},
     "output_type": "execute_result"
    }
   ],
   "source": [
    "df2.sample(5).T"
   ]
  },
  {
   "cell_type": "markdown",
   "id": "4e01c45d",
   "metadata": {},
   "source": [
    "# 3.0 Filtragem de Variáveis"
   ]
  },
  {
   "cell_type": "code",
   "execution_count": 32,
   "id": "112a64a2",
   "metadata": {
    "ExecuteTime": {
     "end_time": "2022-07-08T13:35:12.060268Z",
     "start_time": "2022-07-08T13:35:11.922235Z"
    }
   },
   "outputs": [],
   "source": [
    "df3 = df2.copy()"
   ]
  },
  {
   "cell_type": "code",
   "execution_count": 33,
   "id": "a66f5fec",
   "metadata": {
    "ExecuteTime": {
     "end_time": "2022-07-08T13:35:23.189402Z",
     "start_time": "2022-07-08T13:35:23.140655Z"
    }
   },
   "outputs": [
    {
     "data": {
      "text/html": [
       "<div>\n",
       "<style scoped>\n",
       "    .dataframe tbody tr th:only-of-type {\n",
       "        vertical-align: middle;\n",
       "    }\n",
       "\n",
       "    .dataframe tbody tr th {\n",
       "        vertical-align: top;\n",
       "    }\n",
       "\n",
       "    .dataframe thead th {\n",
       "        text-align: right;\n",
       "    }\n",
       "</style>\n",
       "<table border=\"1\" class=\"dataframe\">\n",
       "  <thead>\n",
       "    <tr style=\"text-align: right;\">\n",
       "      <th></th>\n",
       "      <th>store</th>\n",
       "      <th>day_of_week</th>\n",
       "      <th>date</th>\n",
       "      <th>sales</th>\n",
       "      <th>customers</th>\n",
       "      <th>open</th>\n",
       "      <th>promo</th>\n",
       "      <th>state_holiday</th>\n",
       "      <th>school_holiday</th>\n",
       "      <th>store_type</th>\n",
       "      <th>...</th>\n",
       "      <th>is_promo</th>\n",
       "      <th>year</th>\n",
       "      <th>month</th>\n",
       "      <th>day</th>\n",
       "      <th>week</th>\n",
       "      <th>year_week</th>\n",
       "      <th>competition_since</th>\n",
       "      <th>competition_time_month</th>\n",
       "      <th>promo_since</th>\n",
       "      <th>promo_time_week</th>\n",
       "    </tr>\n",
       "  </thead>\n",
       "  <tbody>\n",
       "    <tr>\n",
       "      <th>0</th>\n",
       "      <td>1</td>\n",
       "      <td>5</td>\n",
       "      <td>2015-07-31</td>\n",
       "      <td>5263</td>\n",
       "      <td>555</td>\n",
       "      <td>1</td>\n",
       "      <td>1</td>\n",
       "      <td>regular_day</td>\n",
       "      <td>1</td>\n",
       "      <td>c</td>\n",
       "      <td>...</td>\n",
       "      <td>0</td>\n",
       "      <td>2015</td>\n",
       "      <td>7</td>\n",
       "      <td>31</td>\n",
       "      <td>31</td>\n",
       "      <td>2015-30</td>\n",
       "      <td>2008-09-01</td>\n",
       "      <td>84</td>\n",
       "      <td>2015-07-27</td>\n",
       "      <td>0</td>\n",
       "    </tr>\n",
       "    <tr>\n",
       "      <th>1</th>\n",
       "      <td>2</td>\n",
       "      <td>5</td>\n",
       "      <td>2015-07-31</td>\n",
       "      <td>6064</td>\n",
       "      <td>625</td>\n",
       "      <td>1</td>\n",
       "      <td>1</td>\n",
       "      <td>regular_day</td>\n",
       "      <td>1</td>\n",
       "      <td>a</td>\n",
       "      <td>...</td>\n",
       "      <td>1</td>\n",
       "      <td>2015</td>\n",
       "      <td>7</td>\n",
       "      <td>31</td>\n",
       "      <td>31</td>\n",
       "      <td>2015-30</td>\n",
       "      <td>2007-11-01</td>\n",
       "      <td>94</td>\n",
       "      <td>2010-03-22</td>\n",
       "      <td>279</td>\n",
       "    </tr>\n",
       "    <tr>\n",
       "      <th>2</th>\n",
       "      <td>3</td>\n",
       "      <td>5</td>\n",
       "      <td>2015-07-31</td>\n",
       "      <td>8314</td>\n",
       "      <td>821</td>\n",
       "      <td>1</td>\n",
       "      <td>1</td>\n",
       "      <td>regular_day</td>\n",
       "      <td>1</td>\n",
       "      <td>a</td>\n",
       "      <td>...</td>\n",
       "      <td>1</td>\n",
       "      <td>2015</td>\n",
       "      <td>7</td>\n",
       "      <td>31</td>\n",
       "      <td>31</td>\n",
       "      <td>2015-30</td>\n",
       "      <td>2006-12-01</td>\n",
       "      <td>105</td>\n",
       "      <td>2011-03-28</td>\n",
       "      <td>226</td>\n",
       "    </tr>\n",
       "    <tr>\n",
       "      <th>3</th>\n",
       "      <td>4</td>\n",
       "      <td>5</td>\n",
       "      <td>2015-07-31</td>\n",
       "      <td>13995</td>\n",
       "      <td>1498</td>\n",
       "      <td>1</td>\n",
       "      <td>1</td>\n",
       "      <td>regular_day</td>\n",
       "      <td>1</td>\n",
       "      <td>c</td>\n",
       "      <td>...</td>\n",
       "      <td>0</td>\n",
       "      <td>2015</td>\n",
       "      <td>7</td>\n",
       "      <td>31</td>\n",
       "      <td>31</td>\n",
       "      <td>2015-30</td>\n",
       "      <td>2009-09-01</td>\n",
       "      <td>71</td>\n",
       "      <td>2015-07-27</td>\n",
       "      <td>0</td>\n",
       "    </tr>\n",
       "    <tr>\n",
       "      <th>4</th>\n",
       "      <td>5</td>\n",
       "      <td>5</td>\n",
       "      <td>2015-07-31</td>\n",
       "      <td>4822</td>\n",
       "      <td>559</td>\n",
       "      <td>1</td>\n",
       "      <td>1</td>\n",
       "      <td>regular_day</td>\n",
       "      <td>1</td>\n",
       "      <td>a</td>\n",
       "      <td>...</td>\n",
       "      <td>0</td>\n",
       "      <td>2015</td>\n",
       "      <td>7</td>\n",
       "      <td>31</td>\n",
       "      <td>31</td>\n",
       "      <td>2015-30</td>\n",
       "      <td>2015-04-01</td>\n",
       "      <td>4</td>\n",
       "      <td>2015-07-27</td>\n",
       "      <td>0</td>\n",
       "    </tr>\n",
       "  </tbody>\n",
       "</table>\n",
       "<p>5 rows × 29 columns</p>\n",
       "</div>"
      ],
      "text/plain": [
       "   store  day_of_week       date  sales  customers  open  promo state_holiday  \\\n",
       "0      1            5 2015-07-31   5263        555     1      1   regular_day   \n",
       "1      2            5 2015-07-31   6064        625     1      1   regular_day   \n",
       "2      3            5 2015-07-31   8314        821     1      1   regular_day   \n",
       "3      4            5 2015-07-31  13995       1498     1      1   regular_day   \n",
       "4      5            5 2015-07-31   4822        559     1      1   regular_day   \n",
       "\n",
       "   school_holiday store_type  ... is_promo  year  month  day  week  year_week  \\\n",
       "0               1          c  ...        0  2015      7   31    31    2015-30   \n",
       "1               1          a  ...        1  2015      7   31    31    2015-30   \n",
       "2               1          a  ...        1  2015      7   31    31    2015-30   \n",
       "3               1          c  ...        0  2015      7   31    31    2015-30   \n",
       "4               1          a  ...        0  2015      7   31    31    2015-30   \n",
       "\n",
       "   competition_since competition_time_month promo_since  promo_time_week  \n",
       "0         2008-09-01                     84  2015-07-27                0  \n",
       "1         2007-11-01                     94  2010-03-22              279  \n",
       "2         2006-12-01                    105  2011-03-28              226  \n",
       "3         2009-09-01                     71  2015-07-27                0  \n",
       "4         2015-04-01                      4  2015-07-27                0  \n",
       "\n",
       "[5 rows x 29 columns]"
      ]
     },
     "execution_count": 33,
     "metadata": {},
     "output_type": "execute_result"
    }
   ],
   "source": [
    "df3.head()"
   ]
  },
  {
   "cell_type": "code",
   "execution_count": 37,
   "id": "c4563b24",
   "metadata": {
    "ExecuteTime": {
     "end_time": "2022-07-08T13:38:54.100069Z",
     "start_time": "2022-07-08T13:38:54.079133Z"
    }
   },
   "outputs": [
    {
     "data": {
      "text/plain": [
       "Index(['store', 'day_of_week', 'date', 'sales', 'customers', 'open', 'promo',\n",
       "       'state_holiday', 'school_holiday', 'store_type', 'assortment',\n",
       "       'competition_distance', 'competition_open_since_month',\n",
       "       'competition_open_since_year', 'promo2', 'promo2_since_week',\n",
       "       'promo2_since_year', 'promo_interval', 'month_map', 'is_promo', 'year',\n",
       "       'month', 'day', 'week', 'year_week', 'competition_since',\n",
       "       'competition_time_month', 'promo_since', 'promo_time_week'],\n",
       "      dtype='object')"
      ]
     },
     "execution_count": 37,
     "metadata": {},
     "output_type": "execute_result"
    }
   ],
   "source": [
    "df3.columns"
   ]
  },
  {
   "cell_type": "markdown",
   "id": "39efa45f",
   "metadata": {},
   "source": [
    "## 3.1 Filtragem de linhas"
   ]
  },
  {
   "cell_type": "code",
   "execution_count": 36,
   "id": "742ef3a1",
   "metadata": {
    "ExecuteTime": {
     "end_time": "2022-07-08T13:37:15.299970Z",
     "start_time": "2022-07-08T13:37:15.070268Z"
    }
   },
   "outputs": [],
   "source": [
    "#Apenas linhas onde as lojas estejam abertas e apenas onde houve vendas\n",
    "df3=df3[(df3['open']!=0) & (df3['sales']>0)]"
   ]
  },
  {
   "cell_type": "markdown",
   "id": "d8008023",
   "metadata": {
    "ExecuteTime": {
     "end_time": "2022-07-08T13:33:14.086056Z",
     "start_time": "2022-07-08T13:33:14.051338Z"
    }
   },
   "source": [
    "## 3.2 Seleção de colunas"
   ]
  },
  {
   "cell_type": "code",
   "execution_count": 40,
   "id": "8437e96d",
   "metadata": {
    "ExecuteTime": {
     "end_time": "2022-07-08T13:43:53.838511Z",
     "start_time": "2022-07-08T13:43:53.637759Z"
    }
   },
   "outputs": [],
   "source": [
    "#Excluindo as colunas que não fazem sentido, como colunas construídas anteriormente e colunas redudantes.\n",
    "df3 = df3.drop(columns=['customers', 'open', 'promo_interval', 'month_map'])"
   ]
  },
  {
   "cell_type": "code",
   "execution_count": null,
   "id": "f4d6a07e",
   "metadata": {},
   "outputs": [],
   "source": []
  }
 ],
 "metadata": {
  "kernelspec": {
   "display_name": "Python 3 (ipykernel)",
   "language": "python",
   "name": "python3"
  },
  "language_info": {
   "codemirror_mode": {
    "name": "ipython",
    "version": 3
   },
   "file_extension": ".py",
   "mimetype": "text/x-python",
   "name": "python",
   "nbconvert_exporter": "python",
   "pygments_lexer": "ipython3",
   "version": "3.9.12"
  },
  "varInspector": {
   "cols": {
    "lenName": 16,
    "lenType": 16,
    "lenVar": 40
   },
   "kernels_config": {
    "python": {
     "delete_cmd_postfix": "",
     "delete_cmd_prefix": "del ",
     "library": "var_list.py",
     "varRefreshCmd": "print(var_dic_list())"
    },
    "r": {
     "delete_cmd_postfix": ") ",
     "delete_cmd_prefix": "rm(",
     "library": "var_list.r",
     "varRefreshCmd": "cat(var_dic_list()) "
    }
   },
   "types_to_exclude": [
    "module",
    "function",
    "builtin_function_or_method",
    "instance",
    "_Feature"
   ],
   "window_display": false
  }
 },
 "nbformat": 4,
 "nbformat_minor": 5
}
